{
  "nbformat": 4,
  "nbformat_minor": 0,
  "metadata": {
    "colab": {
      "provenance": []
    },
    "kernelspec": {
      "name": "python3",
      "display_name": "Python 3"
    },
    "language_info": {
      "name": "python"
    }
  },
  "cells": [
    {
      "cell_type": "markdown",
      "source": [
        "**Q1**. What are data structures, and why are they important?\n",
        " -  Data Structures are a way of organizing data so that it can be accessed more efficiently depending upon the situation. Data Structures are fundamentals of any programming language around which a program is built.\n",
        " - Essential for Efficient Problem-Solving.\n",
        " -Improves Coding Skills.\n",
        " -Solving Real-World Problems\n",
        "\n",
        "**Q2**. Explain the difference between mutable and immutable data types with examples?\n",
        "\n",
        "-  Mutable and immutable objects are handled differently in Python. Immutable objects are quicker to access and are expensive to change because it involves the creation of a copy. Whereas mutable objects are easy to change.\n",
        "\n",
        "- The use of mutable objects is recommended when there is a need to change the size or content of the object.\n",
        "\n",
        "**Q3**.What are the main differences between lists and tuples in Python?\n",
        "\n",
        "- Lists and Tuples in Python are two different in python.\n",
        "\n",
        "- List is Mutable and Tuple is not (Cannot update an element, insert and delete elements)\n",
        "\n",
        "- Tuples are faster because of read only nature. Memory can be efficiently allocated and used for tuples.\n",
        "\n",
        "**Q4**. Describe how dictionaries store data.\n",
        "\n",
        "- Python dictionary is a data structure that stores the value in key: value pairs. Values in a dictionary can be of any data type and can be duplicated, whereas keys can’t be repeated and must be immutable.\n",
        "\n",
        "**Q5**. Why might you use a set instead of a list in Python?\n",
        "\n",
        "- In Python, both sets and lists are used to store collections of elements but they have key differences that make them suitable for different use cases. The main difference is that lists are ordered, meaning the order of elements is preserved and they can be accessed by their index while sets are unordered meaning they do not maintain the order of elements and automatically ensure all elements are unique. This article will explore the differences between sets and lists, including their properties, performance, and typical use cases.\n",
        "\n",
        "**Q6**.What is a string in Python, and how is it different from a list?\n",
        "\n",
        "Lists are mutable sequences, while strings are immutable sequences. Understanding the difference is essential to determine when to apply certain operations on specific data types. Consequently, it aids in avoiding unnecessary exceptions and saves time when coding.\n",
        "\n",
        "**Q7**. How do tuples ensure data integrity in Python.\n",
        "\n",
        "This immutability provides a level of data integrity and safety, making tuples suitable for situations where you want to ensure that the data remains unchanged. Data Integrity: Use tuples when you need to guarantee that the data remains constant and cannot be modified accidentally.\n",
        "\n",
        "**Q8**.What is a hash table, and how does it relate to dictionaries in Python?\n",
        "\n",
        "A Hash table is defined as a data structure used to insert, look up, and remove key-value pairs quickly. It operates on the hashing concept, where each key is translated by a hash function into a distinct index in an array. The index functions as a storage location for the matching value. In simple words, it maps the keys with the value.\n",
        "\n",
        "**Q9**.Can lists contain different data types in Python.\n",
        "\n",
        "A list in Python CAN contain different types of data. Each item in the list is separated by a comma and the entire list is enclosed in square brackets []. To add a new item to the list, just edit the list starting before the closing bracket. Add a comma and the new item. It doesn’t matter what the type is for the previous item.\n",
        "\n",
        "**Q10**.Explain why strings are immutable in Python.\n",
        "\n",
        "Strings are known as Immutable in Python (and other languages) because once the initial string is created, none of the function/methods that act on it change it directly, they simply return new strings. So, in your example After the .replace call, you should try evaluating str1 in your REPL.\n",
        "\n",
        "**Q11**. What advantages do dictionaries offer over lists for certain tasks?\n",
        "\n",
        "While lists maintain the order of elements, dictionaries do not. This makes it easier to use lists for tasks like iterating through data or adding/removing elements from the end. On the other hand, dictionaries allow for faster lookups (O (1) time complexity), which is useful when you need to access data based on a unique key.\n",
        "\n",
        "**Q12**.Describe a scenario where using a tuple would be preferable over a list.\n",
        "\n",
        "Tuples and lists serve different purposes. Lists store homogenous data. You can and should have a list like this: The reason that is a correct use of lists is because those are all homogenous types of data, specifically, people's names. But take a list like this: That list is one person's full name, and their age. That isn't one type of data.\n",
        "\n",
        "**Q13**.How do sets handle duplicate values in Python?\n",
        "\n",
        "In Python, a set is an unordered collection of distinct items, meaning it automatically removes any duplicate elements. This property makes sets particularly valuable when duplicates need to be managed or eliminated from a dataset.\n",
        "\n",
        "**Q14**. How does the “in” keyword work differently for lists and dictionaries?\n",
        "\n",
        "If you use the in or not in operators directly on a dictionary, then it’ll check whether the dictionary has a given key or not. You can also do this check using the .keys() method, which is more explicit about your intentions. You can also check if a given value or key-value pair is in a dictionary.\n",
        "\n",
        "**Q15**. Can you modify the elements of a tuple? Explain why or why not.\n",
        "\n",
        "In Python, tuples are immutable. This means that you cannot modify them directly by adding, changing, or removing items (elements). If you need to work with mutable data, use lists instead.\n",
        "\n",
        "**Q16**.What is a nested dictionary, and give an example of its use case.\n",
        "\n",
        "Nesting Dictionary means putting a dictionary inside another dictionary. Nesting is of great use as the kind of information we can model in programs is expanded greatly.\n",
        "\n",
        "nested_dict = {'dict1': {'key_A': 'value_A'},\n",
        "               'dict2': {'key_B': 'value_B'}}\n",
        "\n",
        "**Q17**.Describe the time complexity of accessing elements in a dictionary.\n",
        "\n",
        " Python dictionaries provide a fast and efficient way to store and retrieve data using key value pair so understanding the time complexities of dictionary operations is very important for optimizing performance in our programs.\n",
        "\n",
        " **Q18**.In what situations are lists preferred over dictionaries.\n",
        "\n",
        " A Python list is a collection object used to store data in a sequential manner. In a list, each element has a particular position and we can access the data randomly using their position. On the other hand, a Python dictionary contains key-value pairs that don’t have a particular position.  \n",
        "\n",
        "**Q19**.Why are dictionaries considered unordered, and how does that affect data retrieval.\n",
        "\n",
        "Dictionary termed as an unordered collection of objects because in dictionary we can use any type of datatypes, but in key datatype must be immutable type.\n",
        "• In python, dictionaries are un-ordered because Python dictionaries are not intended to be in order, as simple as that. If we want to collect a set of objects in order, we have only one choice of accessing them: through index. Hope it helped...\n",
        "\n",
        "**Q20**. Explain the difference between a list and a dictionary in terms of data retrieval.\n",
        "\n",
        "LIST:\n",
        "- A list is an ordered collection of elements where each element is identified by its position or index. Lists are represented by square brackets [ ].\n",
        "\n",
        "- The elements in a list can be accessed using their indices. The index starts from 0 for the first element, and negative indices can be used to access elements from the end.\n",
        "\n",
        "- Lists are mutable, meaning you can modify their elements even after creating them. You can change, add, or remove elements in a list.\n",
        "\n",
        "DICTIONARY:\n",
        "\n",
        " - A dictionary is an unordered collection of key-value pairs. Each element is identified by a unique key, and the values can be accessed using these keys. Dictionaries are represented by curly braces { }.\n",
        "\n",
        "- The elements in a dictionary are accessed using their unique keys. Keys can be of any immutable type (e.g., strings, numbers, tuples). Dictionary values are not accessed using indices since the order of elements is not guaranteed.\n",
        "\n",
        "- Dictionaries are mutable as well. You can modify the values associated with existing keys, add new key-value pairs, or remove key-value pairs from a dictionary.\n",
        "\n",
        "\n",
        "\n",
        "\n",
        "\n",
        "\n",
        "\n",
        "\n",
        "\n",
        "\n",
        "\n",
        "\n",
        "\n",
        "\n",
        "\n",
        "\n",
        "\n",
        "\n"
      ],
      "metadata": {
        "id": "1fRv_0g_LwIC"
      }
    },
    {
      "cell_type": "markdown",
      "source": [
        "## PRACTICAL QUESTIONS"
      ],
      "metadata": {
        "id": "-WtEU3WEdegw"
      }
    },
    {
      "cell_type": "markdown",
      "source": [
        "**Q1**. Write a code to create a string with your name and print it.\n"
      ],
      "metadata": {
        "id": "KXpuDBzLesYh"
      }
    },
    {
      "cell_type": "code",
      "source": [
        "name=\"samarpreet kaur\"\n",
        "print(name)"
      ],
      "metadata": {
        "colab": {
          "base_uri": "https://localhost:8080/"
        },
        "id": "8swgTnM5flhz",
        "outputId": "9eed849d-6618-41e3-90e7-9b709c314a0b"
      },
      "execution_count": null,
      "outputs": [
        {
          "output_type": "stream",
          "name": "stdout",
          "text": [
            "samarpreet kaur\n"
          ]
        }
      ]
    },
    {
      "cell_type": "markdown",
      "source": [
        "**Q2**. Write a code to find the length of the string \"Hello World\".\n",
        "\n"
      ],
      "metadata": {
        "id": "ql1CJZMMgA5V"
      }
    },
    {
      "cell_type": "code",
      "source": [
        "s=\"Hello World\"\n",
        "len(s)"
      ],
      "metadata": {
        "id": "wN7bs9lDZsGt",
        "colab": {
          "base_uri": "https://localhost:8080/"
        },
        "outputId": "b1f61454-942b-4960-b22c-864ee9e233d6"
      },
      "execution_count": null,
      "outputs": [
        {
          "output_type": "execute_result",
          "data": {
            "text/plain": [
              "11"
            ]
          },
          "metadata": {},
          "execution_count": 1
        }
      ]
    },
    {
      "cell_type": "markdown",
      "source": [
        "**Q3**. Write a code to slice the first 3 characters from the string \"Python Programming\".\n"
      ],
      "metadata": {
        "id": "fn10Hh85hRcv"
      }
    },
    {
      "cell_type": "code",
      "source": [
        "string=\"hello world\"\n",
        "print(string[0:3])"
      ],
      "metadata": {
        "colab": {
          "base_uri": "https://localhost:8080/"
        },
        "id": "0ba2q2HGAECR",
        "outputId": "6fc6c697-a1ac-4813-e8f0-e13f2476aa5e"
      },
      "execution_count": null,
      "outputs": [
        {
          "output_type": "stream",
          "name": "stdout",
          "text": [
            "hel\n"
          ]
        }
      ]
    },
    {
      "cell_type": "markdown",
      "source": [
        "**Q4**. Write a code to convert the string \"hello\" to uppercase.\n"
      ],
      "metadata": {
        "id": "3t0uKAo3hcPU"
      }
    },
    {
      "cell_type": "code",
      "source": [
        "print(string.upper())"
      ],
      "metadata": {
        "id": "3EUz8LqehjLU",
        "colab": {
          "base_uri": "https://localhost:8080/"
        },
        "outputId": "62658cde-5534-4030-cd97-2cb38e7c0289"
      },
      "execution_count": null,
      "outputs": [
        {
          "output_type": "stream",
          "name": "stdout",
          "text": [
            "HELLO WORLD\n"
          ]
        }
      ]
    },
    {
      "cell_type": "markdown",
      "source": [
        "**Q5**. Write a code to replace the word \"apple\" with \"orange\" in the string \"I like apple\".\n"
      ],
      "metadata": {
        "id": "yvq__S52hke6"
      }
    },
    {
      "cell_type": "code",
      "source": [
        "str1=\"i like apple\"\n",
        "str1.replace(\"apple\",\"orange\")"
      ],
      "metadata": {
        "id": "35PdqYV-hsli",
        "colab": {
          "base_uri": "https://localhost:8080/",
          "height": 36
        },
        "outputId": "df42d52b-d871-44a7-e0d5-c06fbe3f632b"
      },
      "execution_count": null,
      "outputs": [
        {
          "output_type": "execute_result",
          "data": {
            "text/plain": [
              "'i like orange'"
            ],
            "application/vnd.google.colaboratory.intrinsic+json": {
              "type": "string"
            }
          },
          "metadata": {},
          "execution_count": 9
        }
      ]
    },
    {
      "cell_type": "markdown",
      "source": [
        "**Q6**.Write a code to create a list with numbers 1 to 5 and print it."
      ],
      "metadata": {
        "id": "gYxm8t6AhtQK"
      }
    },
    {
      "cell_type": "code",
      "source": [
        "list([1,2,3,4,5])"
      ],
      "metadata": {
        "id": "bVYSGIQ-hz7X",
        "colab": {
          "base_uri": "https://localhost:8080/"
        },
        "outputId": "8c84f9ab-eaec-49d4-bb1d-c439d2bc7c6e"
      },
      "execution_count": null,
      "outputs": [
        {
          "output_type": "execute_result",
          "data": {
            "text/plain": [
              "[1, 2, 3, 4, 5]"
            ]
          },
          "metadata": {},
          "execution_count": 11
        }
      ]
    },
    {
      "cell_type": "markdown",
      "source": [
        "**Q7**.Write a code to append the number 10 to the list [1, 2, 3, 4].\n"
      ],
      "metadata": {
        "id": "tTdw33YQh04l"
      }
    },
    {
      "cell_type": "code",
      "source": [
        "\n",
        "a=[1,2,3,4]\n",
        "a.append(10)\n",
        "print(a)"
      ],
      "metadata": {
        "id": "sbadyneZh8Co",
        "colab": {
          "base_uri": "https://localhost:8080/"
        },
        "outputId": "c3dcbb63-c8d2-453c-a6bb-3cdc9cbc72ff"
      },
      "execution_count": null,
      "outputs": [
        {
          "output_type": "stream",
          "name": "stdout",
          "text": [
            "[1, 2, 3, 4, 10]\n"
          ]
        }
      ]
    },
    {
      "cell_type": "markdown",
      "source": [
        "**Q8**.Write a code to remove the number 3 from the list [1, 2, 3, 4, 5].\n"
      ],
      "metadata": {
        "id": "IT0q3qOlh8rP"
      }
    },
    {
      "cell_type": "code",
      "source": [
        "a=[1,2,3,4,5]\n",
        "a.remove(3)\n",
        "print(a)"
      ],
      "metadata": {
        "id": "nwqRg86HiW8I",
        "colab": {
          "base_uri": "https://localhost:8080/"
        },
        "outputId": "732834b8-5d8d-4212-9925-209b9e94e3a7"
      },
      "execution_count": null,
      "outputs": [
        {
          "output_type": "stream",
          "name": "stdout",
          "text": [
            "[1, 2, 4, 5]\n"
          ]
        }
      ]
    },
    {
      "cell_type": "markdown",
      "source": [
        "**Q9**. Write a code to access the second element in the list ['a', 'b', 'c', 'd'].\n"
      ],
      "metadata": {
        "id": "ceA94HBbiXiK"
      }
    },
    {
      "cell_type": "code",
      "source": [
        "a=['a','b','c','d']\n",
        "print(a[2])"
      ],
      "metadata": {
        "id": "wLZJsqNxicJt",
        "colab": {
          "base_uri": "https://localhost:8080/"
        },
        "outputId": "f98f028b-8a5e-4d8e-d80a-977991bfabf7"
      },
      "execution_count": null,
      "outputs": [
        {
          "output_type": "stream",
          "name": "stdout",
          "text": [
            "c\n"
          ]
        }
      ]
    },
    {
      "cell_type": "markdown",
      "source": [
        "**Q10**. Write a code to reverse the list [10, 20, 30, 40, 50]."
      ],
      "metadata": {
        "id": "SNoDXV63idB9"
      }
    },
    {
      "cell_type": "code",
      "source": [
        "a=[10,20,30,40,50]\n",
        "a.reverse()\n",
        "print(a)"
      ],
      "metadata": {
        "id": "PHoE8Ts4ijB1",
        "colab": {
          "base_uri": "https://localhost:8080/"
        },
        "outputId": "6d4c9a99-b317-4da6-966e-8d9e5ea38437"
      },
      "execution_count": null,
      "outputs": [
        {
          "output_type": "stream",
          "name": "stdout",
          "text": [
            "[50, 40, 30, 20, 10]\n"
          ]
        }
      ]
    },
    {
      "cell_type": "markdown",
      "source": [
        "**Q11**.Write a code to create a tuple with the elements 10, 20, 30 and print it."
      ],
      "metadata": {
        "id": "cmQBXS1Vijzi"
      }
    },
    {
      "cell_type": "code",
      "source": [
        "t=(10,20,30)\n",
        "print(t)"
      ],
      "metadata": {
        "id": "YFuidto_iolg",
        "colab": {
          "base_uri": "https://localhost:8080/"
        },
        "outputId": "e1712dfe-872a-4f6b-8cb8-0eb3d8a3ec1d"
      },
      "execution_count": null,
      "outputs": [
        {
          "output_type": "stream",
          "name": "stdout",
          "text": [
            "(10, 20, 30)\n"
          ]
        }
      ]
    },
    {
      "cell_type": "markdown",
      "source": [
        "**Q12**. Write a code to access the first element of the tuple ('apple', 'banana', 'cherry')."
      ],
      "metadata": {
        "id": "dHNyoWw8iqxm"
      }
    },
    {
      "cell_type": "code",
      "source": [
        "t=('apple','banana','cherry')\n",
        "print(t[1])"
      ],
      "metadata": {
        "id": "XtsFJ2hGitgE",
        "colab": {
          "base_uri": "https://localhost:8080/"
        },
        "outputId": "53bf96a0-c645-4864-c768-b177833c4940"
      },
      "execution_count": null,
      "outputs": [
        {
          "output_type": "stream",
          "name": "stdout",
          "text": [
            "banana\n"
          ]
        }
      ]
    },
    {
      "cell_type": "markdown",
      "source": [
        "**Q13**. Write a code to count how many times the number 2 appears in the tuple (1, 2, 3, 2, 4, 2)."
      ],
      "metadata": {
        "id": "W0ra3DMYiuPr"
      }
    },
    {
      "cell_type": "code",
      "source": [
        "tuple1=(1,2,3,2,4,2)\n",
        "tuple1.count(2)"
      ],
      "metadata": {
        "id": "ro7T0-Urizcy",
        "colab": {
          "base_uri": "https://localhost:8080/"
        },
        "outputId": "bc5e90b4-f3d7-4403-f00f-5c350a1db2cf"
      },
      "execution_count": null,
      "outputs": [
        {
          "output_type": "execute_result",
          "data": {
            "text/plain": [
              "3"
            ]
          },
          "metadata": {},
          "execution_count": 40
        }
      ]
    },
    {
      "cell_type": "markdown",
      "source": [
        "**Q14**. Write a code to find the index of the element \"cat\" in the tuple ('dog', 'cat', 'rabbit')."
      ],
      "metadata": {
        "id": "g4UDs0D4jEWO"
      }
    },
    {
      "cell_type": "code",
      "source": [
        "tuple1=('dog','cat','rabbit')\n",
        "tuple1.index('cat')"
      ],
      "metadata": {
        "id": "7epijqJojIka",
        "colab": {
          "base_uri": "https://localhost:8080/"
        },
        "outputId": "542cbb3f-214b-40f4-8151-10ec31c25eff"
      },
      "execution_count": null,
      "outputs": [
        {
          "output_type": "execute_result",
          "data": {
            "text/plain": [
              "1"
            ]
          },
          "metadata": {},
          "execution_count": 41
        }
      ]
    },
    {
      "cell_type": "markdown",
      "source": [
        "**Q15**.Write a code to check if the element \"banana\" is in the tuple ('apple', 'orange', 'banana')."
      ],
      "metadata": {
        "id": "sGgeTZEXjJN5"
      }
    },
    {
      "cell_type": "code",
      "source": [
        "tuple1=('apple','orange','banana')\n",
        "'banana'in tuple1"
      ],
      "metadata": {
        "colab": {
          "base_uri": "https://localhost:8080/"
        },
        "id": "TEfQjIYfPbTp",
        "outputId": "28926fd1-3dbb-4252-af10-98aa37cb922e"
      },
      "execution_count": null,
      "outputs": [
        {
          "output_type": "execute_result",
          "data": {
            "text/plain": [
              "True"
            ]
          },
          "metadata": {},
          "execution_count": 44
        }
      ]
    },
    {
      "cell_type": "markdown",
      "source": [
        "**Q16**. Write a code to create a set with the elements 1, 2, 3, 4, 5 and print it."
      ],
      "metadata": {
        "id": "NtV2eQinjOsK"
      }
    },
    {
      "cell_type": "code",
      "source": [
        "s={1,2,3,4,5}\n",
        "print(s)"
      ],
      "metadata": {
        "id": "8bN_GQCBjS2z",
        "colab": {
          "base_uri": "https://localhost:8080/"
        },
        "outputId": "ca8d5546-ad52-4323-a7d6-32cac492c007"
      },
      "execution_count": null,
      "outputs": [
        {
          "output_type": "stream",
          "name": "stdout",
          "text": [
            "{1, 2, 3, 4, 5}\n"
          ]
        }
      ]
    },
    {
      "cell_type": "markdown",
      "source": [
        "**Q17**. Write a code to add the element 6 to the set {1, 2, 3, 4}."
      ],
      "metadata": {
        "id": "EXlWd3hWjTTL"
      }
    },
    {
      "cell_type": "code",
      "source": [
        "s={1,2,3,4}\n",
        "s.add(6)\n",
        "print(s)"
      ],
      "metadata": {
        "id": "NQTyNDjAjXPh",
        "colab": {
          "base_uri": "https://localhost:8080/"
        },
        "outputId": "e4d4482e-2224-424b-8c10-4b6386185dc6"
      },
      "execution_count": null,
      "outputs": [
        {
          "output_type": "stream",
          "name": "stdout",
          "text": [
            "{1, 2, 3, 4, 6}\n"
          ]
        }
      ]
    }
  ]
}